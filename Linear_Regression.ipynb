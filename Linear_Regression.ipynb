{
 "cells": [
  {
   "cell_type": "markdown",
   "id": "f48c95da-96f3-4bef-b502-940df20b21a6",
   "metadata": {},
   "source": [
    "# Linear Regression"
   ]
  },
  {
   "cell_type": "code",
   "execution_count": null,
   "id": "09d95210-3518-4ae5-9d7d-079975e78299",
   "metadata": {},
   "outputs": [],
   "source": []
  },
  {
   "cell_type": "code",
   "execution_count": 1,
   "id": "6711de6c-b6b9-4aba-a725-a0691c5185c3",
   "metadata": {},
   "outputs": [],
   "source": [
    "from sklearn.linear_model import LinearRegression\n",
    "\n",
    "from sklearn.model_selection import train_test_split\n",
    "\n",
    "from sklearn.metrics import mean_squared_error, mean_absolute_error, r2_score\n",
    "\n",
    "import pandas as pd\n",
    "\n",
    "import random\n",
    "\n",
    "import seaborn as sns\n",
    "import plotly.express as px\n",
    "import matplotlib.pyplot as plt"
   ]
  },
  {
   "cell_type": "code",
   "execution_count": 2,
   "id": "400482be-fa36-4dff-ba7a-d3e1675fb089",
   "metadata": {},
   "outputs": [],
   "source": [
    "min_range = 0\n",
    "max_range = 300"
   ]
  },
  {
   "cell_type": "code",
   "execution_count": 3,
   "id": "06109a8d-5022-4740-8de4-763b892b4592",
   "metadata": {},
   "outputs": [],
   "source": [
    "rand_int_min = -50\n",
    "rand_int_max = 50"
   ]
  },
  {
   "cell_type": "code",
   "execution_count": 4,
   "id": "3ddd23f6-4e82-4824-815e-96a44551cd0f",
   "metadata": {
    "scrolled": true
   },
   "outputs": [
    {
     "data": {
      "text/plain": [
       "[[5],\n",
       " [19],\n",
       " [27],\n",
       " [46],\n",
       " [30],\n",
       " [21],\n",
       " [-12],\n",
       " [-3],\n",
       " [31],\n",
       " [42],\n",
       " [19],\n",
       " [7],\n",
       " [56],\n",
       " [49],\n",
       " [53],\n",
       " [48],\n",
       " [-34],\n",
       " [65],\n",
       " [61],\n",
       " [-2],\n",
       " [64],\n",
       " [21],\n",
       " [19],\n",
       " [17],\n",
       " [66],\n",
       " [56],\n",
       " [52],\n",
       " [-22],\n",
       " [15],\n",
       " [15],\n",
       " [-3],\n",
       " [-6],\n",
       " [24],\n",
       " [37],\n",
       " [31],\n",
       " [73],\n",
       " [25],\n",
       " [-3],\n",
       " [58],\n",
       " [55],\n",
       " [81],\n",
       " [46],\n",
       " [33],\n",
       " [-5],\n",
       " [-5],\n",
       " [87],\n",
       " [75],\n",
       " [26],\n",
       " [79],\n",
       " [18],\n",
       " [86],\n",
       " [91],\n",
       " [13],\n",
       " [99],\n",
       " [24],\n",
       " [38],\n",
       " [52],\n",
       " [39],\n",
       " [58],\n",
       " [45],\n",
       " [66],\n",
       " [46],\n",
       " [25],\n",
       " [22],\n",
       " [75],\n",
       " [109],\n",
       " [59],\n",
       " [73],\n",
       " [65],\n",
       " [55],\n",
       " [78],\n",
       " [23],\n",
       " [60],\n",
       " [106],\n",
       " [114],\n",
       " [112],\n",
       " [44],\n",
       " [49],\n",
       " [127],\n",
       " [52],\n",
       " [32],\n",
       " [64],\n",
       " [126],\n",
       " [99],\n",
       " [39],\n",
       " [49],\n",
       " [80],\n",
       " [79],\n",
       " [44],\n",
       " [42],\n",
       " [57],\n",
       " [53],\n",
       " [126],\n",
       " [95],\n",
       " [114],\n",
       " [74],\n",
       " [111],\n",
       " [56],\n",
       " [87],\n",
       " [132],\n",
       " [56],\n",
       " [132],\n",
       " [128],\n",
       " [115],\n",
       " [73],\n",
       " [91],\n",
       " [102],\n",
       " [87],\n",
       " [111],\n",
       " [74],\n",
       " [69],\n",
       " [100],\n",
       " [136],\n",
       " [146],\n",
       " [133],\n",
       " [148],\n",
       " [107],\n",
       " [84],\n",
       " [81],\n",
       " [126],\n",
       " [156],\n",
       " [164],\n",
       " [161],\n",
       " [136],\n",
       " [169],\n",
       " [105],\n",
       " [174],\n",
       " [167],\n",
       " [93],\n",
       " [172],\n",
       " [165],\n",
       " [162],\n",
       " [105],\n",
       " [175],\n",
       " [183],\n",
       " [182],\n",
       " [174],\n",
       " [101],\n",
       " [173],\n",
       " [115],\n",
       " [110],\n",
       " [116],\n",
       " [109],\n",
       " [167],\n",
       " [144],\n",
       " [106],\n",
       " [114],\n",
       " [144],\n",
       " [157],\n",
       " [119],\n",
       " [113],\n",
       " [107],\n",
       " [191],\n",
       " [196],\n",
       " [135],\n",
       " [139],\n",
       " [153],\n",
       " [167],\n",
       " [207],\n",
       " [171],\n",
       " [152],\n",
       " [195],\n",
       " [176],\n",
       " [179],\n",
       " [188],\n",
       " [137],\n",
       " [164],\n",
       " [168],\n",
       " [167],\n",
       " [203],\n",
       " [161],\n",
       " [142],\n",
       " [187],\n",
       " [208],\n",
       " [125],\n",
       " [175],\n",
       " [201],\n",
       " [211],\n",
       " [187],\n",
       " [225],\n",
       " [152],\n",
       " [185],\n",
       " [144],\n",
       " [190],\n",
       " [196],\n",
       " [201],\n",
       " [175],\n",
       " [232],\n",
       " [139],\n",
       " [147],\n",
       " [140],\n",
       " [190],\n",
       " [226],\n",
       " [204],\n",
       " [195],\n",
       " [242],\n",
       " [241],\n",
       " [197],\n",
       " [172],\n",
       " [199],\n",
       " [154],\n",
       " [248],\n",
       " [215],\n",
       " [232],\n",
       " [207],\n",
       " [232],\n",
       " [210],\n",
       " [210],\n",
       " [204],\n",
       " [211],\n",
       " [230],\n",
       " [169],\n",
       " [230],\n",
       " [212],\n",
       " [231],\n",
       " [224],\n",
       " [184],\n",
       " [191],\n",
       " [267],\n",
       " [194],\n",
       " [176],\n",
       " [242],\n",
       " [254],\n",
       " [192],\n",
       " [183],\n",
       " [185],\n",
       " [213],\n",
       " [182],\n",
       " [274],\n",
       " [220],\n",
       " [205],\n",
       " [186],\n",
       " [282],\n",
       " [271],\n",
       " [210],\n",
       " [230],\n",
       " [256],\n",
       " [272],\n",
       " [237],\n",
       " [270],\n",
       " [195],\n",
       " [286],\n",
       " [257],\n",
       " [237],\n",
       " [241],\n",
       " [263],\n",
       " [280],\n",
       " [207],\n",
       " [213],\n",
       " [278],\n",
       " [210],\n",
       " [265],\n",
       " [229],\n",
       " [275],\n",
       " [218],\n",
       " [272],\n",
       " [218],\n",
       " [237],\n",
       " [274],\n",
       " [223],\n",
       " [226],\n",
       " [282],\n",
       " [282],\n",
       " [241],\n",
       " [313],\n",
       " [283],\n",
       " [230],\n",
       " [262],\n",
       " [224],\n",
       " [288],\n",
       " [248],\n",
       " [261],\n",
       " [245],\n",
       " [311],\n",
       " [261],\n",
       " [301],\n",
       " [283],\n",
       " [255],\n",
       " [244],\n",
       " [238],\n",
       " [309],\n",
       " [324],\n",
       " [324],\n",
       " [248],\n",
       " [303],\n",
       " [285],\n",
       " [330],\n",
       " [317],\n",
       " [288],\n",
       " [292],\n",
       " [323],\n",
       " [339],\n",
       " [337],\n",
       " [284],\n",
       " [265],\n",
       " [309],\n",
       " [253],\n",
       " [309],\n",
       " [294],\n",
       " [307]]"
      ]
     },
     "execution_count": 4,
     "metadata": {},
     "output_type": "execute_result"
    }
   ],
   "source": [
    "# Generate x variable\n",
    "x = [[r+random.randint(rand_int_min, rand_int_max)] for r in range(min_range,max_range)]\n",
    "x"
   ]
  },
  {
   "cell_type": "code",
   "execution_count": 5,
   "id": "caefb426-ebe4-434e-866f-01b4a379b3de",
   "metadata": {
    "scrolled": true
   },
   "outputs": [
    {
     "data": {
      "text/plain": [
       "[-30,\n",
       " -45,\n",
       " 29,\n",
       " -11,\n",
       " -10,\n",
       " -15,\n",
       " 20,\n",
       " -38,\n",
       " 29,\n",
       " 1,\n",
       " 17,\n",
       " 16,\n",
       " -7,\n",
       " 0,\n",
       " 20,\n",
       " -13,\n",
       " -14,\n",
       " -11,\n",
       " 30,\n",
       " 5,\n",
       " -9,\n",
       " 71,\n",
       " -10,\n",
       " -2,\n",
       " -20,\n",
       " 55,\n",
       " 70,\n",
       " 37,\n",
       " 30,\n",
       " 77,\n",
       " 1,\n",
       " 53,\n",
       " 55,\n",
       " 9,\n",
       " 82,\n",
       " 5,\n",
       " -1,\n",
       " -9,\n",
       " 70,\n",
       " 24,\n",
       " 43,\n",
       " 39,\n",
       " 1,\n",
       " 93,\n",
       " 7,\n",
       " 0,\n",
       " 70,\n",
       " 67,\n",
       " 43,\n",
       " 1,\n",
       " 74,\n",
       " 33,\n",
       " 76,\n",
       " 20,\n",
       " 69,\n",
       " 11,\n",
       " 6,\n",
       " 67,\n",
       " 66,\n",
       " 105,\n",
       " 77,\n",
       " 99,\n",
       " 100,\n",
       " 81,\n",
       " 57,\n",
       " 60,\n",
       " 100,\n",
       " 51,\n",
       " 42,\n",
       " 111,\n",
       " 32,\n",
       " 75,\n",
       " 51,\n",
       " 53,\n",
       " 103,\n",
       " 97,\n",
       " 64,\n",
       " 119,\n",
       " 36,\n",
       " 113,\n",
       " 47,\n",
       " 104,\n",
       " 127,\n",
       " 99,\n",
       " 109,\n",
       " 73,\n",
       " 81,\n",
       " 121,\n",
       " 117,\n",
       " 138,\n",
       " 79,\n",
       " 47,\n",
       " 96,\n",
       " 50,\n",
       " 96,\n",
       " 122,\n",
       " 100,\n",
       " 62,\n",
       " 126,\n",
       " 134,\n",
       " 144,\n",
       " 134,\n",
       " 68,\n",
       " 76,\n",
       " 83,\n",
       " 124,\n",
       " 132,\n",
       " 108,\n",
       " 153,\n",
       " 126,\n",
       " 90,\n",
       " 96,\n",
       " 111,\n",
       " 159,\n",
       " 109,\n",
       " 69,\n",
       " 99,\n",
       " 156,\n",
       " 156,\n",
       " 155,\n",
       " 88,\n",
       " 139,\n",
       " 167,\n",
       " 157,\n",
       " 74,\n",
       " 171,\n",
       " 133,\n",
       " 171,\n",
       " 104,\n",
       " 80,\n",
       " 135,\n",
       " 90,\n",
       " 145,\n",
       " 103,\n",
       " 174,\n",
       " 160,\n",
       " 170,\n",
       " 130,\n",
       " 185,\n",
       " 168,\n",
       " 107,\n",
       " 186,\n",
       " 156,\n",
       " 96,\n",
       " 193,\n",
       " 108,\n",
       " 152,\n",
       " 159,\n",
       " 148,\n",
       " 156,\n",
       " 109,\n",
       " 141,\n",
       " 169,\n",
       " 203,\n",
       " 159,\n",
       " 121,\n",
       " 153,\n",
       " 151,\n",
       " 139,\n",
       " 162,\n",
       " 160,\n",
       " 163,\n",
       " 183,\n",
       " 155,\n",
       " 126,\n",
       " 175,\n",
       " 203,\n",
       " 190,\n",
       " 137,\n",
       " 214,\n",
       " 131,\n",
       " 209,\n",
       " 156,\n",
       " 160,\n",
       " 158,\n",
       " 195,\n",
       " 161,\n",
       " 153,\n",
       " 185,\n",
       " 136,\n",
       " 187,\n",
       " 206,\n",
       " 154,\n",
       " 194,\n",
       " 208,\n",
       " 186,\n",
       " 164,\n",
       " 162,\n",
       " 192,\n",
       " 142,\n",
       " 146,\n",
       " 168,\n",
       " 167,\n",
       " 175,\n",
       " 206,\n",
       " 149,\n",
       " 188,\n",
       " 230,\n",
       " 217,\n",
       " 178,\n",
       " 187,\n",
       " 172,\n",
       " 222,\n",
       " 187,\n",
       " 201,\n",
       " 176,\n",
       " 164,\n",
       " 219,\n",
       " 238,\n",
       " 181,\n",
       " 216,\n",
       " 213,\n",
       " 250,\n",
       " 211,\n",
       " 254,\n",
       " 171,\n",
       " 265,\n",
       " 169,\n",
       " 224,\n",
       " 226,\n",
       " 211,\n",
       " 258,\n",
       " 172,\n",
       " 190,\n",
       " 209,\n",
       " 221,\n",
       " 184,\n",
       " 238,\n",
       " 278,\n",
       " 212,\n",
       " 207,\n",
       " 218,\n",
       " 182,\n",
       " 244,\n",
       " 281,\n",
       " 191,\n",
       " 235,\n",
       " 283,\n",
       " 234,\n",
       " 284,\n",
       " 256,\n",
       " 224,\n",
       " 282,\n",
       " 243,\n",
       " 208,\n",
       " 196,\n",
       " 226,\n",
       " 262,\n",
       " 221,\n",
       " 274,\n",
       " 276,\n",
       " 272,\n",
       " 219,\n",
       " 243,\n",
       " 249,\n",
       " 229,\n",
       " 305,\n",
       " 235,\n",
       " 304,\n",
       " 289,\n",
       " 284,\n",
       " 267,\n",
       " 236,\n",
       " 217,\n",
       " 283,\n",
       " 315,\n",
       " 307,\n",
       " 221,\n",
       " 255,\n",
       " 308,\n",
       " 319,\n",
       " 267,\n",
       " 303,\n",
       " 252,\n",
       " 261,\n",
       " 297,\n",
       " 291,\n",
       " 322,\n",
       " 318,\n",
       " 257,\n",
       " 231,\n",
       " 310,\n",
       " 271,\n",
       " 273,\n",
       " 320,\n",
       " 273,\n",
       " 305,\n",
       " 308,\n",
       " 330,\n",
       " 293,\n",
       " 253,\n",
       " 298,\n",
       " 325,\n",
       " 264,\n",
       " 249,\n",
       " 278,\n",
       " 341,\n",
       " 249,\n",
       " 297,\n",
       " 268]"
      ]
     },
     "execution_count": 5,
     "metadata": {},
     "output_type": "execute_result"
    }
   ],
   "source": [
    "# Generate y variable\n",
    "y = [r+random.randint(rand_int_min, rand_int_max) for r in range(min_range,max_range)]\n",
    "y"
   ]
  },
  {
   "cell_type": "code",
   "execution_count": 6,
   "id": "739a99ab-e9df-4dce-a89e-9c7454099566",
   "metadata": {},
   "outputs": [],
   "source": [
    "x_train, x_test, y_train, y_test = train_test_split(x, y, train_size=.7, test_size=.3)"
   ]
  },
  {
   "cell_type": "code",
   "execution_count": 7,
   "id": "61abe98f-2795-4298-83e8-5657c4a4d6d4",
   "metadata": {},
   "outputs": [],
   "source": [
    "# Linear Regression model\n",
    "lin_reg = LinearRegression()"
   ]
  },
  {
   "cell_type": "code",
   "execution_count": 8,
   "id": "6fed7995-a2ff-47d4-b80a-dc6a37427113",
   "metadata": {},
   "outputs": [
    {
     "data": {
      "text/html": [
       "<style>#sk-container-id-1 {color: black;}#sk-container-id-1 pre{padding: 0;}#sk-container-id-1 div.sk-toggleable {background-color: white;}#sk-container-id-1 label.sk-toggleable__label {cursor: pointer;display: block;width: 100%;margin-bottom: 0;padding: 0.3em;box-sizing: border-box;text-align: center;}#sk-container-id-1 label.sk-toggleable__label-arrow:before {content: \"▸\";float: left;margin-right: 0.25em;color: #696969;}#sk-container-id-1 label.sk-toggleable__label-arrow:hover:before {color: black;}#sk-container-id-1 div.sk-estimator:hover label.sk-toggleable__label-arrow:before {color: black;}#sk-container-id-1 div.sk-toggleable__content {max-height: 0;max-width: 0;overflow: hidden;text-align: left;background-color: #f0f8ff;}#sk-container-id-1 div.sk-toggleable__content pre {margin: 0.2em;color: black;border-radius: 0.25em;background-color: #f0f8ff;}#sk-container-id-1 input.sk-toggleable__control:checked~div.sk-toggleable__content {max-height: 200px;max-width: 100%;overflow: auto;}#sk-container-id-1 input.sk-toggleable__control:checked~label.sk-toggleable__label-arrow:before {content: \"▾\";}#sk-container-id-1 div.sk-estimator input.sk-toggleable__control:checked~label.sk-toggleable__label {background-color: #d4ebff;}#sk-container-id-1 div.sk-label input.sk-toggleable__control:checked~label.sk-toggleable__label {background-color: #d4ebff;}#sk-container-id-1 input.sk-hidden--visually {border: 0;clip: rect(1px 1px 1px 1px);clip: rect(1px, 1px, 1px, 1px);height: 1px;margin: -1px;overflow: hidden;padding: 0;position: absolute;width: 1px;}#sk-container-id-1 div.sk-estimator {font-family: monospace;background-color: #f0f8ff;border: 1px dotted black;border-radius: 0.25em;box-sizing: border-box;margin-bottom: 0.5em;}#sk-container-id-1 div.sk-estimator:hover {background-color: #d4ebff;}#sk-container-id-1 div.sk-parallel-item::after {content: \"\";width: 100%;border-bottom: 1px solid gray;flex-grow: 1;}#sk-container-id-1 div.sk-label:hover label.sk-toggleable__label {background-color: #d4ebff;}#sk-container-id-1 div.sk-serial::before {content: \"\";position: absolute;border-left: 1px solid gray;box-sizing: border-box;top: 0;bottom: 0;left: 50%;z-index: 0;}#sk-container-id-1 div.sk-serial {display: flex;flex-direction: column;align-items: center;background-color: white;padding-right: 0.2em;padding-left: 0.2em;position: relative;}#sk-container-id-1 div.sk-item {position: relative;z-index: 1;}#sk-container-id-1 div.sk-parallel {display: flex;align-items: stretch;justify-content: center;background-color: white;position: relative;}#sk-container-id-1 div.sk-item::before, #sk-container-id-1 div.sk-parallel-item::before {content: \"\";position: absolute;border-left: 1px solid gray;box-sizing: border-box;top: 0;bottom: 0;left: 50%;z-index: -1;}#sk-container-id-1 div.sk-parallel-item {display: flex;flex-direction: column;z-index: 1;position: relative;background-color: white;}#sk-container-id-1 div.sk-parallel-item:first-child::after {align-self: flex-end;width: 50%;}#sk-container-id-1 div.sk-parallel-item:last-child::after {align-self: flex-start;width: 50%;}#sk-container-id-1 div.sk-parallel-item:only-child::after {width: 0;}#sk-container-id-1 div.sk-dashed-wrapped {border: 1px dashed gray;margin: 0 0.4em 0.5em 0.4em;box-sizing: border-box;padding-bottom: 0.4em;background-color: white;}#sk-container-id-1 div.sk-label label {font-family: monospace;font-weight: bold;display: inline-block;line-height: 1.2em;}#sk-container-id-1 div.sk-label-container {text-align: center;}#sk-container-id-1 div.sk-container {/* jupyter's `normalize.less` sets `[hidden] { display: none; }` but bootstrap.min.css set `[hidden] { display: none !important; }` so we also need the `!important` here to be able to override the default hidden behavior on the sphinx rendered scikit-learn.org. See: https://github.com/scikit-learn/scikit-learn/issues/21755 */display: inline-block !important;position: relative;}#sk-container-id-1 div.sk-text-repr-fallback {display: none;}</style><div id=\"sk-container-id-1\" class=\"sk-top-container\"><div class=\"sk-text-repr-fallback\"><pre>LinearRegression()</pre><b>In a Jupyter environment, please rerun this cell to show the HTML representation or trust the notebook. <br />On GitHub, the HTML representation is unable to render, please try loading this page with nbviewer.org.</b></div><div class=\"sk-container\" hidden><div class=\"sk-item\"><div class=\"sk-estimator sk-toggleable\"><input class=\"sk-toggleable__control sk-hidden--visually\" id=\"sk-estimator-id-1\" type=\"checkbox\" checked><label for=\"sk-estimator-id-1\" class=\"sk-toggleable__label sk-toggleable__label-arrow\">LinearRegression</label><div class=\"sk-toggleable__content\"><pre>LinearRegression()</pre></div></div></div></div></div>"
      ],
      "text/plain": [
       "LinearRegression()"
      ]
     },
     "execution_count": 8,
     "metadata": {},
     "output_type": "execute_result"
    }
   ],
   "source": [
    "# Fit Linear Regression model with training data set\n",
    "fit_lin_reg = lin_reg.fit(x_train, y_train)\n",
    "fit_lin_reg"
   ]
  },
  {
   "cell_type": "markdown",
   "id": "a4b14b51-17f2-44ee-b20c-b7356f0d1b32",
   "metadata": {},
   "source": [
    "Linear Regression interception of te y axis point. "
   ]
  },
  {
   "cell_type": "code",
   "execution_count": 9,
   "id": "792b88f9-f2c8-45db-8518-41f252b3f398",
   "metadata": {},
   "outputs": [
    {
     "data": {
      "text/plain": [
       "16.19762563012202"
      ]
     },
     "execution_count": 9,
     "metadata": {},
     "output_type": "execute_result"
    }
   ],
   "source": [
    "lin_reg.intercept_"
   ]
  },
  {
   "cell_type": "markdown",
   "id": "3ddf4146-e885-43f7-85c0-896ac76738bf",
   "metadata": {},
   "source": [
    "Linear Regressions's error score."
   ]
  },
  {
   "cell_type": "code",
   "execution_count": 10,
   "id": "64929517-9742-4f01-8d4e-14e67eca7647",
   "metadata": {},
   "outputs": [
    {
     "data": {
      "text/plain": [
       "0.7972576773848402"
      ]
     },
     "execution_count": 10,
     "metadata": {},
     "output_type": "execute_result"
    }
   ],
   "source": [
    "lin_reg.score(x_train,y_train)"
   ]
  },
  {
   "cell_type": "markdown",
   "id": "d82290d0-b6ab-45e1-935d-808266d7ec68",
   "metadata": {},
   "source": [
    "Linear Regression's predicted points."
   ]
  },
  {
   "cell_type": "code",
   "execution_count": 11,
   "id": "eafe2de2-7a2c-4e09-87a5-27924e5d9d76",
   "metadata": {},
   "outputs": [
    {
     "data": {
      "text/plain": [
       "array([190.3322998 ,  33.07802772, 230.31219948, 270.29209916,\n",
       "       205.43581745, 275.62275245, 128.14134474, 236.53129498,\n",
       "       105.93028936, 202.77049081, 155.68305341, 111.26094265,\n",
       "       129.02978695, 119.25692259, 220.53933511, 222.31621954,\n",
       "        74.83481183, 114.81471151, 272.06898359, 128.14134474,\n",
       "        53.51219867, 133.47199803, 164.56747556, 260.51923479,\n",
       "        31.30114329,  32.1895855 ,  55.2890831 ,  42.85089208,\n",
       "       207.21270188, 317.37953656, 166.34435999, 128.14134474,\n",
       "       309.38355662, 259.63079258, 118.36848037,  33.07802772,\n",
       "       105.04184714, 175.22878214, 159.23682227,  62.39662082,\n",
       "       202.77049081, 267.62677251, 118.36848037, 137.9142091 ,\n",
       "       161.90214891, 115.70315372, 290.72627011, 183.22476207,\n",
       "        85.49611841, 121.92224923, 259.63079258, 200.99360638,\n",
       "       216.09712403,  62.39662082, 136.13732467, 146.79863125,\n",
       "       185.89008872, 185.89008872, 209.87802853, 169.00968663,\n",
       "       182.33631986,  49.95842981,  10.86697234, 264.96144587,\n",
       "       242.75039049,  82.83079176, 222.31621954, 283.61873238,\n",
       "       144.13330461, 214.3202396 ,  90.8267717 , 170.78657106,\n",
       "       180.55943543,  55.2890831 ,  93.49209835, 231.20064169,\n",
       "        65.95038968, 164.56747556, 194.77451087, 220.53933511,\n",
       "        65.95038968,  59.73129417, 269.40365694,  93.49209835,\n",
       "        81.05390733, 248.08104378, 251.63481264,  66.83883189,\n",
       "       288.94938568, 139.69109353])"
      ]
     },
     "execution_count": 11,
     "metadata": {},
     "output_type": "execute_result"
    }
   ],
   "source": [
    "lin_reg = lin_reg.predict(x_test)\n",
    "lin_reg"
   ]
  },
  {
   "cell_type": "code",
   "execution_count": 12,
   "id": "37853276-b0cb-47b0-a035-e07d4cc1bd7e",
   "metadata": {},
   "outputs": [],
   "source": [
    "data_points = pd.DataFrame(data=x ,columns=['x'])"
   ]
  },
  {
   "cell_type": "code",
   "execution_count": 13,
   "id": "aa847d63-910a-491a-a5fb-e31f1a08ddfc",
   "metadata": {},
   "outputs": [],
   "source": [
    "data_points['y'] = y"
   ]
  },
  {
   "cell_type": "code",
   "execution_count": 14,
   "id": "2a7b8f0b-020d-4e24-8dfc-4ab80e7e2939",
   "metadata": {},
   "outputs": [
    {
     "data": {
      "image/png": "[encoded data removed]",
      "text/plain": [
       "<Figure size 640x480 with 1 Axes>"
      ]
     },
     "metadata": {},
     "output_type": "display_data"
    }
   ],
   "source": [
    "sns.regplot(data=data_points, x='x', y='y', );"
   ]
  },
  {
   "cell_type": "markdown",
   "id": "73bd0480-efa7-4a8a-9196-e4fbe645925c",
   "metadata": {},
   "source": [
    "Here the data is positively coorelated, as x increases so does y. "
   ]
  },
  {
   "cell_type": "code",
   "execution_count": 15,
   "id": "af7e9f59-8756-4c41-9066-c7a0fe639ad1",
   "metadata": {},
   "outputs": [
    {
     "data": {
      "text/plain": [
       "1926.3051709380293"
      ]
     },
     "execution_count": 15,
     "metadata": {},
     "output_type": "execute_result"
    }
   ],
   "source": [
    "mean_squared_error(y_test,lin_reg)"
   ]
  },
  {
   "cell_type": "code",
   "execution_count": 16,
   "id": "323ce6a1-28b4-40c9-af4b-edeb22c2dea0",
   "metadata": {},
   "outputs": [
    {
     "data": {
      "text/plain": [
       "35.49790486377155"
      ]
     },
     "execution_count": 16,
     "metadata": {},
     "output_type": "execute_result"
    }
   ],
   "source": [
    "mean_absolute_error(y_test,lin_reg)"
   ]
  },
  {
   "cell_type": "code",
   "execution_count": 17,
   "id": "35c85d53-e630-4deb-af15-22f954524e47",
   "metadata": {},
   "outputs": [
    {
     "data": {
      "text/plain": [
       "0.7801264094050219"
      ]
     },
     "execution_count": 17,
     "metadata": {},
     "output_type": "execute_result"
    }
   ],
   "source": [
    "r2_score(y_test,lin_reg)"
   ]
  },
  {
   "cell_type": "markdown",
   "id": "c6549cbb-b38d-4821-af86-a57aa8d3d03b",
   "metadata": {},
   "source": [
    "## Ridge, Lasso, ElasticNet"
   ]
  },
  {
   "cell_type": "code",
   "execution_count": 18,
   "id": "eef3444b-0f17-4db2-aa64-03f1d1977e63",
   "metadata": {},
   "outputs": [],
   "source": [
    "from sklearn.linear_model import Ridge, RidgeCV\n",
    "from sklearn.linear_model import Lasso, LassoCV\n",
    "from sklearn.linear_model import ElasticNet"
   ]
  },
  {
   "cell_type": "code",
   "execution_count": 19,
   "id": "b56eb27e-3de6-4000-9ee7-fcf1bef34b3a",
   "metadata": {},
   "outputs": [],
   "source": [
    "# Shrinkage penalties\n",
    "alpha = 1\n",
    "# For pipeline models\n",
    "alphas = [.001, .01, .1, 1]"
   ]
  },
  {
   "cell_type": "markdown",
   "id": "589ee11c-a1c3-464b-afc3-a2ad29302aa5",
   "metadata": {},
   "source": [
    "### Ridge"
   ]
  },
  {
   "cell_type": "markdown",
   "id": "77624cc0-3367-4ea3-a1c0-542654dcfa44",
   "metadata": {},
   "source": [
    "Ridge uses the squares operator on the y data. "
   ]
  },
  {
   "cell_type": "code",
   "execution_count": 20,
   "id": "f1ab80d6-52a3-42b8-b001-5e76936a59f7",
   "metadata": {},
   "outputs": [],
   "source": [
    "ridge = Ridge(alpha=alpha)"
   ]
  },
  {
   "cell_type": "code",
   "execution_count": 21,
   "id": "70af43aa-a1be-414e-a786-a88a996efe55",
   "metadata": {},
   "outputs": [
    {
     "data": {
      "text/html": [
       "<style>#sk-container-id-2 {color: black;}#sk-container-id-2 pre{padding: 0;}#sk-container-id-2 div.sk-toggleable {background-color: white;}#sk-container-id-2 label.sk-toggleable__label {cursor: pointer;display: block;width: 100%;margin-bottom: 0;padding: 0.3em;box-sizing: border-box;text-align: center;}#sk-container-id-2 label.sk-toggleable__label-arrow:before {content: \"▸\";float: left;margin-right: 0.25em;color: #696969;}#sk-container-id-2 label.sk-toggleable__label-arrow:hover:before {color: black;}#sk-container-id-2 div.sk-estimator:hover label.sk-toggleable__label-arrow:before {color: black;}#sk-container-id-2 div.sk-toggleable__content {max-height: 0;max-width: 0;overflow: hidden;text-align: left;background-color: #f0f8ff;}#sk-container-id-2 div.sk-toggleable__content pre {margin: 0.2em;color: black;border-radius: 0.25em;background-color: #f0f8ff;}#sk-container-id-2 input.sk-toggleable__control:checked~div.sk-toggleable__content {max-height: 200px;max-width: 100%;overflow: auto;}#sk-container-id-2 input.sk-toggleable__control:checked~label.sk-toggleable__label-arrow:before {content: \"▾\";}#sk-container-id-2 div.sk-estimator input.sk-toggleable__control:checked~label.sk-toggleable__label {background-color: #d4ebff;}#sk-container-id-2 div.sk-label input.sk-toggleable__control:checked~label.sk-toggleable__label {background-color: #d4ebff;}#sk-container-id-2 input.sk-hidden--visually {border: 0;clip: rect(1px 1px 1px 1px);clip: rect(1px, 1px, 1px, 1px);height: 1px;margin: -1px;overflow: hidden;padding: 0;position: absolute;width: 1px;}#sk-container-id-2 div.sk-estimator {font-family: monospace;background-color: #f0f8ff;border: 1px dotted black;border-radius: 0.25em;box-sizing: border-box;margin-bottom: 0.5em;}#sk-container-id-2 div.sk-estimator:hover {background-color: #d4ebff;}#sk-container-id-2 div.sk-parallel-item::after {content: \"\";width: 100%;border-bottom: 1px solid gray;flex-grow: 1;}#sk-container-id-2 div.sk-label:hover label.sk-toggleable__label {background-color: #d4ebff;}#sk-container-id-2 div.sk-serial::before {content: \"\";position: absolute;border-left: 1px solid gray;box-sizing: border-box;top: 0;bottom: 0;left: 50%;z-index: 0;}#sk-container-id-2 div.sk-serial {display: flex;flex-direction: column;align-items: center;background-color: white;padding-right: 0.2em;padding-left: 0.2em;position: relative;}#sk-container-id-2 div.sk-item {position: relative;z-index: 1;}#sk-container-id-2 div.sk-parallel {display: flex;align-items: stretch;justify-content: center;background-color: white;position: relative;}#sk-container-id-2 div.sk-item::before, #sk-container-id-2 div.sk-parallel-item::before {content: \"\";position: absolute;border-left: 1px solid gray;box-sizing: border-box;top: 0;bottom: 0;left: 50%;z-index: -1;}#sk-container-id-2 div.sk-parallel-item {display: flex;flex-direction: column;z-index: 1;position: relative;background-color: white;}#sk-container-id-2 div.sk-parallel-item:first-child::after {align-self: flex-end;width: 50%;}#sk-container-id-2 div.sk-parallel-item:last-child::after {align-self: flex-start;width: 50%;}#sk-container-id-2 div.sk-parallel-item:only-child::after {width: 0;}#sk-container-id-2 div.sk-dashed-wrapped {border: 1px dashed gray;margin: 0 0.4em 0.5em 0.4em;box-sizing: border-box;padding-bottom: 0.4em;background-color: white;}#sk-container-id-2 div.sk-label label {font-family: monospace;font-weight: bold;display: inline-block;line-height: 1.2em;}#sk-container-id-2 div.sk-label-container {text-align: center;}#sk-container-id-2 div.sk-container {/* jupyter's `normalize.less` sets `[hidden] { display: none; }` but bootstrap.min.css set `[hidden] { display: none !important; }` so we also need the `!important` here to be able to override the default hidden behavior on the sphinx rendered scikit-learn.org. See: https://github.com/scikit-learn/scikit-learn/issues/21755 */display: inline-block !important;position: relative;}#sk-container-id-2 div.sk-text-repr-fallback {display: none;}</style><div id=\"sk-container-id-2\" class=\"sk-top-container\"><div class=\"sk-text-repr-fallback\"><pre>Ridge(alpha=1)</pre><b>In a Jupyter environment, please rerun this cell to show the HTML representation or trust the notebook. <br />On GitHub, the HTML representation is unable to render, please try loading this page with nbviewer.org.</b></div><div class=\"sk-container\" hidden><div class=\"sk-item\"><div class=\"sk-estimator sk-toggleable\"><input class=\"sk-toggleable__control sk-hidden--visually\" id=\"sk-estimator-id-2\" type=\"checkbox\" checked><label for=\"sk-estimator-id-2\" class=\"sk-toggleable__label sk-toggleable__label-arrow\">Ridge</label><div class=\"sk-toggleable__content\"><pre>Ridge(alpha=1)</pre></div></div></div></div></div>"
      ],
      "text/plain": [
       "Ridge(alpha=1)"
      ]
     },
     "execution_count": 21,
     "metadata": {},
     "output_type": "execute_result"
    }
   ],
   "source": [
    "ridge.fit(x_train, y_train)"
   ]
  },
  {
   "cell_type": "code",
   "execution_count": 22,
   "id": "9290ceb5-8851-4a77-a63b-a944a086deea",
   "metadata": {},
   "outputs": [
    {
     "data": {
      "text/plain": [
       "0.7972576773845846"
      ]
     },
     "execution_count": 22,
     "metadata": {},
     "output_type": "execute_result"
    }
   ],
   "source": [
    "ridge.score(x_train, y_train)"
   ]
  },
  {
   "cell_type": "code",
   "execution_count": 23,
   "id": "10d50da9-ec7a-47a4-8639-3f559c0b4e8d",
   "metadata": {},
   "outputs": [
    {
     "data": {
      "text/plain": [
       "0.7801263607986353"
      ]
     },
     "execution_count": 23,
     "metadata": {},
     "output_type": "execute_result"
    }
   ],
   "source": [
    "ridge.score(x_test, y_test)"
   ]
  },
  {
   "cell_type": "markdown",
   "id": "0a601d99-ce72-4387-ad2d-ca7b4f100a55",
   "metadata": {},
   "source": [
    "#### Ridge CV"
   ]
  },
  {
   "cell_type": "code",
   "execution_count": 24,
   "id": "57245e0b-9430-437f-aef9-6c0e60165b83",
   "metadata": {},
   "outputs": [],
   "source": [
    "ridgecv = RidgeCV(alphas=alphas)"
   ]
  },
  {
   "cell_type": "code",
   "execution_count": 25,
   "id": "5054051a-8d67-48bb-b1bc-300a4a82cb4e",
   "metadata": {},
   "outputs": [
    {
     "data": {
      "text/html": [
       "<style>#sk-container-id-3 {color: black;}#sk-container-id-3 pre{padding: 0;}#sk-container-id-3 div.sk-toggleable {background-color: white;}#sk-container-id-3 label.sk-toggleable__label {cursor: pointer;display: block;width: 100%;margin-bottom: 0;padding: 0.3em;box-sizing: border-box;text-align: center;}#sk-container-id-3 label.sk-toggleable__label-arrow:before {content: \"▸\";float: left;margin-right: 0.25em;color: #696969;}#sk-container-id-3 label.sk-toggleable__label-arrow:hover:before {color: black;}#sk-container-id-3 div.sk-estimator:hover label.sk-toggleable__label-arrow:before {color: black;}#sk-container-id-3 div.sk-toggleable__content {max-height: 0;max-width: 0;overflow: hidden;text-align: left;background-color: #f0f8ff;}#sk-container-id-3 div.sk-toggleable__content pre {margin: 0.2em;color: black;border-radius: 0.25em;background-color: #f0f8ff;}#sk-container-id-3 input.sk-toggleable__control:checked~div.sk-toggleable__content {max-height: 200px;max-width: 100%;overflow: auto;}#sk-container-id-3 input.sk-toggleable__control:checked~label.sk-toggleable__label-arrow:before {content: \"▾\";}#sk-container-id-3 div.sk-estimator input.sk-toggleable__control:checked~label.sk-toggleable__label {background-color: #d4ebff;}#sk-container-id-3 div.sk-label input.sk-toggleable__control:checked~label.sk-toggleable__label {background-color: #d4ebff;}#sk-container-id-3 input.sk-hidden--visually {border: 0;clip: rect(1px 1px 1px 1px);clip: rect(1px, 1px, 1px, 1px);height: 1px;margin: -1px;overflow: hidden;padding: 0;position: absolute;width: 1px;}#sk-container-id-3 div.sk-estimator {font-family: monospace;background-color: #f0f8ff;border: 1px dotted black;border-radius: 0.25em;box-sizing: border-box;margin-bottom: 0.5em;}#sk-container-id-3 div.sk-estimator:hover {background-color: #d4ebff;}#sk-container-id-3 div.sk-parallel-item::after {content: \"\";width: 100%;border-bottom: 1px solid gray;flex-grow: 1;}#sk-container-id-3 div.sk-label:hover label.sk-toggleable__label {background-color: #d4ebff;}#sk-container-id-3 div.sk-serial::before {content: \"\";position: absolute;border-left: 1px solid gray;box-sizing: border-box;top: 0;bottom: 0;left: 50%;z-index: 0;}#sk-container-id-3 div.sk-serial {display: flex;flex-direction: column;align-items: center;background-color: white;padding-right: 0.2em;padding-left: 0.2em;position: relative;}#sk-container-id-3 div.sk-item {position: relative;z-index: 1;}#sk-container-id-3 div.sk-parallel {display: flex;align-items: stretch;justify-content: center;background-color: white;position: relative;}#sk-container-id-3 div.sk-item::before, #sk-container-id-3 div.sk-parallel-item::before {content: \"\";position: absolute;border-left: 1px solid gray;box-sizing: border-box;top: 0;bottom: 0;left: 50%;z-index: -1;}#sk-container-id-3 div.sk-parallel-item {display: flex;flex-direction: column;z-index: 1;position: relative;background-color: white;}#sk-container-id-3 div.sk-parallel-item:first-child::after {align-self: flex-end;width: 50%;}#sk-container-id-3 div.sk-parallel-item:last-child::after {align-self: flex-start;width: 50%;}#sk-container-id-3 div.sk-parallel-item:only-child::after {width: 0;}#sk-container-id-3 div.sk-dashed-wrapped {border: 1px dashed gray;margin: 0 0.4em 0.5em 0.4em;box-sizing: border-box;padding-bottom: 0.4em;background-color: white;}#sk-container-id-3 div.sk-label label {font-family: monospace;font-weight: bold;display: inline-block;line-height: 1.2em;}#sk-container-id-3 div.sk-label-container {text-align: center;}#sk-container-id-3 div.sk-container {/* jupyter's `normalize.less` sets `[hidden] { display: none; }` but bootstrap.min.css set `[hidden] { display: none !important; }` so we also need the `!important` here to be able to override the default hidden behavior on the sphinx rendered scikit-learn.org. See: https://github.com/scikit-learn/scikit-learn/issues/21755 */display: inline-block !important;position: relative;}#sk-container-id-3 div.sk-text-repr-fallback {display: none;}</style><div id=\"sk-container-id-3\" class=\"sk-top-container\"><div class=\"sk-text-repr-fallback\"><pre>RidgeCV(alphas=[0.001, 0.01, 0.1, 1])</pre><b>In a Jupyter environment, please rerun this cell to show the HTML representation or trust the notebook. <br />On GitHub, the HTML representation is unable to render, please try loading this page with nbviewer.org.</b></div><div class=\"sk-container\" hidden><div class=\"sk-item\"><div class=\"sk-estimator sk-toggleable\"><input class=\"sk-toggleable__control sk-hidden--visually\" id=\"sk-estimator-id-3\" type=\"checkbox\" checked><label for=\"sk-estimator-id-3\" class=\"sk-toggleable__label sk-toggleable__label-arrow\">RidgeCV</label><div class=\"sk-toggleable__content\"><pre>RidgeCV(alphas=[0.001, 0.01, 0.1, 1])</pre></div></div></div></div></div>"
      ],
      "text/plain": [
       "RidgeCV(alphas=[0.001, 0.01, 0.1, 1])"
      ]
     },
     "execution_count": 25,
     "metadata": {},
     "output_type": "execute_result"
    }
   ],
   "source": [
    "ridgecv.fit(x_train,y_train)"
   ]
  },
  {
   "cell_type": "code",
   "execution_count": 26,
   "id": "50d54743-495d-4744-99f1-b95fd5cc6ae2",
   "metadata": {},
   "outputs": [
    {
     "data": {
      "text/plain": [
       "0.7972576773845843"
      ]
     },
     "execution_count": 26,
     "metadata": {},
     "output_type": "execute_result"
    }
   ],
   "source": [
    "ridgecv.score(x_train,y_train)"
   ]
  },
  {
   "cell_type": "code",
   "execution_count": 27,
   "id": "3e1ee13c-2e0f-4255-bc73-501432b3ef5d",
   "metadata": {},
   "outputs": [
    {
     "data": {
      "text/plain": [
       "0.780126360762565"
      ]
     },
     "execution_count": 27,
     "metadata": {},
     "output_type": "execute_result"
    }
   ],
   "source": [
    "ridgecv.score(x_test, y_test)"
   ]
  },
  {
   "cell_type": "markdown",
   "id": "eba72388-6206-4594-bf00-3ec51bb463d8",
   "metadata": {},
   "source": [
    "### Lasso"
   ]
  },
  {
   "cell_type": "code",
   "execution_count": null,
   "id": "f2de5233-5bc1-4d83-8348-2b7b38e6fe8b",
   "metadata": {},
   "outputs": [],
   "source": [
    "Lasso uses the absolute operator on the y data. "
   ]
  },
  {
   "cell_type": "code",
   "execution_count": 28,
   "id": "3865c148-9eb7-4b57-a84c-2be26e950e43",
   "metadata": {},
   "outputs": [],
   "source": [
    "lasso = Lasso(alpha=alpha)"
   ]
  },
  {
   "cell_type": "code",
   "execution_count": 29,
   "id": "c6a37ad8-0b60-42a7-a236-f699b7492344",
   "metadata": {},
   "outputs": [
    {
     "data": {
      "text/html": [
       "<style>#sk-container-id-4 {color: black;}#sk-container-id-4 pre{padding: 0;}#sk-container-id-4 div.sk-toggleable {background-color: white;}#sk-container-id-4 label.sk-toggleable__label {cursor: pointer;display: block;width: 100%;margin-bottom: 0;padding: 0.3em;box-sizing: border-box;text-align: center;}#sk-container-id-4 label.sk-toggleable__label-arrow:before {content: \"▸\";float: left;margin-right: 0.25em;color: #696969;}#sk-container-id-4 label.sk-toggleable__label-arrow:hover:before {color: black;}#sk-container-id-4 div.sk-estimator:hover label.sk-toggleable__label-arrow:before {color: black;}#sk-container-id-4 div.sk-toggleable__content {max-height: 0;max-width: 0;overflow: hidden;text-align: left;background-color: #f0f8ff;}#sk-container-id-4 div.sk-toggleable__content pre {margin: 0.2em;color: black;border-radius: 0.25em;background-color: #f0f8ff;}#sk-container-id-4 input.sk-toggleable__control:checked~div.sk-toggleable__content {max-height: 200px;max-width: 100%;overflow: auto;}#sk-container-id-4 input.sk-toggleable__control:checked~label.sk-toggleable__label-arrow:before {content: \"▾\";}#sk-container-id-4 div.sk-estimator input.sk-toggleable__control:checked~label.sk-toggleable__label {background-color: #d4ebff;}#sk-container-id-4 div.sk-label input.sk-toggleable__control:checked~label.sk-toggleable__label {background-color: #d4ebff;}#sk-container-id-4 input.sk-hidden--visually {border: 0;clip: rect(1px 1px 1px 1px);clip: rect(1px, 1px, 1px, 1px);height: 1px;margin: -1px;overflow: hidden;padding: 0;position: absolute;width: 1px;}#sk-container-id-4 div.sk-estimator {font-family: monospace;background-color: #f0f8ff;border: 1px dotted black;border-radius: 0.25em;box-sizing: border-box;margin-bottom: 0.5em;}#sk-container-id-4 div.sk-estimator:hover {background-color: #d4ebff;}#sk-container-id-4 div.sk-parallel-item::after {content: \"\";width: 100%;border-bottom: 1px solid gray;flex-grow: 1;}#sk-container-id-4 div.sk-label:hover label.sk-toggleable__label {background-color: #d4ebff;}#sk-container-id-4 div.sk-serial::before {content: \"\";position: absolute;border-left: 1px solid gray;box-sizing: border-box;top: 0;bottom: 0;left: 50%;z-index: 0;}#sk-container-id-4 div.sk-serial {display: flex;flex-direction: column;align-items: center;background-color: white;padding-right: 0.2em;padding-left: 0.2em;position: relative;}#sk-container-id-4 div.sk-item {position: relative;z-index: 1;}#sk-container-id-4 div.sk-parallel {display: flex;align-items: stretch;justify-content: center;background-color: white;position: relative;}#sk-container-id-4 div.sk-item::before, #sk-container-id-4 div.sk-parallel-item::before {content: \"\";position: absolute;border-left: 1px solid gray;box-sizing: border-box;top: 0;bottom: 0;left: 50%;z-index: -1;}#sk-container-id-4 div.sk-parallel-item {display: flex;flex-direction: column;z-index: 1;position: relative;background-color: white;}#sk-container-id-4 div.sk-parallel-item:first-child::after {align-self: flex-end;width: 50%;}#sk-container-id-4 div.sk-parallel-item:last-child::after {align-self: flex-start;width: 50%;}#sk-container-id-4 div.sk-parallel-item:only-child::after {width: 0;}#sk-container-id-4 div.sk-dashed-wrapped {border: 1px dashed gray;margin: 0 0.4em 0.5em 0.4em;box-sizing: border-box;padding-bottom: 0.4em;background-color: white;}#sk-container-id-4 div.sk-label label {font-family: monospace;font-weight: bold;display: inline-block;line-height: 1.2em;}#sk-container-id-4 div.sk-label-container {text-align: center;}#sk-container-id-4 div.sk-container {/* jupyter's `normalize.less` sets `[hidden] { display: none; }` but bootstrap.min.css set `[hidden] { display: none !important; }` so we also need the `!important` here to be able to override the default hidden behavior on the sphinx rendered scikit-learn.org. See: https://github.com/scikit-learn/scikit-learn/issues/21755 */display: inline-block !important;position: relative;}#sk-container-id-4 div.sk-text-repr-fallback {display: none;}</style><div id=\"sk-container-id-4\" class=\"sk-top-container\"><div class=\"sk-text-repr-fallback\"><pre>Lasso(alpha=1)</pre><b>In a Jupyter environment, please rerun this cell to show the HTML representation or trust the notebook. <br />On GitHub, the HTML representation is unable to render, please try loading this page with nbviewer.org.</b></div><div class=\"sk-container\" hidden><div class=\"sk-item\"><div class=\"sk-estimator sk-toggleable\"><input class=\"sk-toggleable__control sk-hidden--visually\" id=\"sk-estimator-id-4\" type=\"checkbox\" checked><label for=\"sk-estimator-id-4\" class=\"sk-toggleable__label sk-toggleable__label-arrow\">Lasso</label><div class=\"sk-toggleable__content\"><pre>Lasso(alpha=1)</pre></div></div></div></div></div>"
      ],
      "text/plain": [
       "Lasso(alpha=1)"
      ]
     },
     "execution_count": 29,
     "metadata": {},
     "output_type": "execute_result"
    }
   ],
   "source": [
    "lasso.fit(x_train, y_train)"
   ]
  },
  {
   "cell_type": "code",
   "execution_count": 30,
   "id": "a5d2f5e2-1bb6-48a5-b2db-f00830da1a04",
   "metadata": {},
   "outputs": [
    {
     "data": {
      "text/plain": [
       "0.7972576631056091"
      ]
     },
     "execution_count": 30,
     "metadata": {},
     "output_type": "execute_result"
    }
   ],
   "source": [
    "lasso.score(x_train, y_train)"
   ]
  },
  {
   "cell_type": "code",
   "execution_count": 31,
   "id": "8dd7813c-128f-4dfc-8ced-183a0a8f45f3",
   "metadata": {},
   "outputs": [
    {
     "data": {
      "text/plain": [
       "0.7801149076895204"
      ]
     },
     "execution_count": 31,
     "metadata": {},
     "output_type": "execute_result"
    }
   ],
   "source": [
    "lasso.score(x_test, y_test)"
   ]
  },
  {
   "cell_type": "markdown",
   "id": "dfaadb2c-2156-418b-b45a-6af9400ae273",
   "metadata": {},
   "source": [
    "#### Lasso CV"
   ]
  },
  {
   "cell_type": "code",
   "execution_count": 32,
   "id": "505a748b-69b3-4e4e-82e3-d255807b8d66",
   "metadata": {},
   "outputs": [],
   "source": [
    "lassocv = LassoCV(alphas=alphas)"
   ]
  },
  {
   "cell_type": "code",
   "execution_count": 33,
   "id": "3379f01a-5e7b-4e67-a36a-0a28222ccf25",
   "metadata": {},
   "outputs": [
    {
     "data": {
      "text/html": [
       "<style>#sk-container-id-5 {color: black;}#sk-container-id-5 pre{padding: 0;}#sk-container-id-5 div.sk-toggleable {background-color: white;}#sk-container-id-5 label.sk-toggleable__label {cursor: pointer;display: block;width: 100%;margin-bottom: 0;padding: 0.3em;box-sizing: border-box;text-align: center;}#sk-container-id-5 label.sk-toggleable__label-arrow:before {content: \"▸\";float: left;margin-right: 0.25em;color: #696969;}#sk-container-id-5 label.sk-toggleable__label-arrow:hover:before {color: black;}#sk-container-id-5 div.sk-estimator:hover label.sk-toggleable__label-arrow:before {color: black;}#sk-container-id-5 div.sk-toggleable__content {max-height: 0;max-width: 0;overflow: hidden;text-align: left;background-color: #f0f8ff;}#sk-container-id-5 div.sk-toggleable__content pre {margin: 0.2em;color: black;border-radius: 0.25em;background-color: #f0f8ff;}#sk-container-id-5 input.sk-toggleable__control:checked~div.sk-toggleable__content {max-height: 200px;max-width: 100%;overflow: auto;}#sk-container-id-5 input.sk-toggleable__control:checked~label.sk-toggleable__label-arrow:before {content: \"▾\";}#sk-container-id-5 div.sk-estimator input.sk-toggleable__control:checked~label.sk-toggleable__label {background-color: #d4ebff;}#sk-container-id-5 div.sk-label input.sk-toggleable__control:checked~label.sk-toggleable__label {background-color: #d4ebff;}#sk-container-id-5 input.sk-hidden--visually {border: 0;clip: rect(1px 1px 1px 1px);clip: rect(1px, 1px, 1px, 1px);height: 1px;margin: -1px;overflow: hidden;padding: 0;position: absolute;width: 1px;}#sk-container-id-5 div.sk-estimator {font-family: monospace;background-color: #f0f8ff;border: 1px dotted black;border-radius: 0.25em;box-sizing: border-box;margin-bottom: 0.5em;}#sk-container-id-5 div.sk-estimator:hover {background-color: #d4ebff;}#sk-container-id-5 div.sk-parallel-item::after {content: \"\";width: 100%;border-bottom: 1px solid gray;flex-grow: 1;}#sk-container-id-5 div.sk-label:hover label.sk-toggleable__label {background-color: #d4ebff;}#sk-container-id-5 div.sk-serial::before {content: \"\";position: absolute;border-left: 1px solid gray;box-sizing: border-box;top: 0;bottom: 0;left: 50%;z-index: 0;}#sk-container-id-5 div.sk-serial {display: flex;flex-direction: column;align-items: center;background-color: white;padding-right: 0.2em;padding-left: 0.2em;position: relative;}#sk-container-id-5 div.sk-item {position: relative;z-index: 1;}#sk-container-id-5 div.sk-parallel {display: flex;align-items: stretch;justify-content: center;background-color: white;position: relative;}#sk-container-id-5 div.sk-item::before, #sk-container-id-5 div.sk-parallel-item::before {content: \"\";position: absolute;border-left: 1px solid gray;box-sizing: border-box;top: 0;bottom: 0;left: 50%;z-index: -1;}#sk-container-id-5 div.sk-parallel-item {display: flex;flex-direction: column;z-index: 1;position: relative;background-color: white;}#sk-container-id-5 div.sk-parallel-item:first-child::after {align-self: flex-end;width: 50%;}#sk-container-id-5 div.sk-parallel-item:last-child::after {align-self: flex-start;width: 50%;}#sk-container-id-5 div.sk-parallel-item:only-child::after {width: 0;}#sk-container-id-5 div.sk-dashed-wrapped {border: 1px dashed gray;margin: 0 0.4em 0.5em 0.4em;box-sizing: border-box;padding-bottom: 0.4em;background-color: white;}#sk-container-id-5 div.sk-label label {font-family: monospace;font-weight: bold;display: inline-block;line-height: 1.2em;}#sk-container-id-5 div.sk-label-container {text-align: center;}#sk-container-id-5 div.sk-container {/* jupyter's `normalize.less` sets `[hidden] { display: none; }` but bootstrap.min.css set `[hidden] { display: none !important; }` so we also need the `!important` here to be able to override the default hidden behavior on the sphinx rendered scikit-learn.org. See: https://github.com/scikit-learn/scikit-learn/issues/21755 */display: inline-block !important;position: relative;}#sk-container-id-5 div.sk-text-repr-fallback {display: none;}</style><div id=\"sk-container-id-5\" class=\"sk-top-container\"><div class=\"sk-text-repr-fallback\"><pre>LassoCV(alphas=[0.001, 0.01, 0.1, 1])</pre><b>In a Jupyter environment, please rerun this cell to show the HTML representation or trust the notebook. <br />On GitHub, the HTML representation is unable to render, please try loading this page with nbviewer.org.</b></div><div class=\"sk-container\" hidden><div class=\"sk-item\"><div class=\"sk-estimator sk-toggleable\"><input class=\"sk-toggleable__control sk-hidden--visually\" id=\"sk-estimator-id-5\" type=\"checkbox\" checked><label for=\"sk-estimator-id-5\" class=\"sk-toggleable__label sk-toggleable__label-arrow\">LassoCV</label><div class=\"sk-toggleable__content\"><pre>LassoCV(alphas=[0.001, 0.01, 0.1, 1])</pre></div></div></div></div></div>"
      ],
      "text/plain": [
       "LassoCV(alphas=[0.001, 0.01, 0.1, 1])"
      ]
     },
     "execution_count": 33,
     "metadata": {},
     "output_type": "execute_result"
    }
   ],
   "source": [
    "lassocv.fit(x_train,y_train)"
   ]
  },
  {
   "cell_type": "code",
   "execution_count": 34,
   "id": "13e16db7-08ac-4fde-84fa-5a1e83fc2ba6",
   "metadata": {},
   "outputs": [
    {
     "data": {
      "text/plain": [
       "0.7972576631056091"
      ]
     },
     "execution_count": 34,
     "metadata": {},
     "output_type": "execute_result"
    }
   ],
   "source": [
    "lassocv.score(x_train,y_train)"
   ]
  },
  {
   "cell_type": "code",
   "execution_count": 35,
   "id": "18d12a50-1997-42c0-bd42-f0bbf246b0d9",
   "metadata": {},
   "outputs": [
    {
     "data": {
      "text/plain": [
       "0.7801149076895204"
      ]
     },
     "execution_count": 35,
     "metadata": {},
     "output_type": "execute_result"
    }
   ],
   "source": [
    "lassocv.score(x_test, y_test)"
   ]
  },
  {
   "cell_type": "markdown",
   "id": "91335362-0a24-4511-bde3-ec50a99121c4",
   "metadata": {},
   "source": [
    "### Elastic Net"
   ]
  },
  {
   "cell_type": "markdown",
   "id": "89f6cc4d-cdc6-4da0-ab50-b909d5d203b5",
   "metadata": {},
   "source": [
    "Uses two penalties and performs absolute on values."
   ]
  },
  {
   "cell_type": "code",
   "execution_count": 36,
   "id": "770ceca1-f0be-40bf-a15c-da6792a03fd5",
   "metadata": {},
   "outputs": [],
   "source": [
    "elastic_net = ElasticNet(alpha=alpha)"
   ]
  },
  {
   "cell_type": "code",
   "execution_count": 37,
   "id": "32b88749-c791-4c99-a30d-dda6a32e627e",
   "metadata": {},
   "outputs": [
    {
     "data": {
      "text/html": [
       "<style>#sk-container-id-6 {color: black;}#sk-container-id-6 pre{padding: 0;}#sk-container-id-6 div.sk-toggleable {background-color: white;}#sk-container-id-6 label.sk-toggleable__label {cursor: pointer;display: block;width: 100%;margin-bottom: 0;padding: 0.3em;box-sizing: border-box;text-align: center;}#sk-container-id-6 label.sk-toggleable__label-arrow:before {content: \"▸\";float: left;margin-right: 0.25em;color: #696969;}#sk-container-id-6 label.sk-toggleable__label-arrow:hover:before {color: black;}#sk-container-id-6 div.sk-estimator:hover label.sk-toggleable__label-arrow:before {color: black;}#sk-container-id-6 div.sk-toggleable__content {max-height: 0;max-width: 0;overflow: hidden;text-align: left;background-color: #f0f8ff;}#sk-container-id-6 div.sk-toggleable__content pre {margin: 0.2em;color: black;border-radius: 0.25em;background-color: #f0f8ff;}#sk-container-id-6 input.sk-toggleable__control:checked~div.sk-toggleable__content {max-height: 200px;max-width: 100%;overflow: auto;}#sk-container-id-6 input.sk-toggleable__control:checked~label.sk-toggleable__label-arrow:before {content: \"▾\";}#sk-container-id-6 div.sk-estimator input.sk-toggleable__control:checked~label.sk-toggleable__label {background-color: #d4ebff;}#sk-container-id-6 div.sk-label input.sk-toggleable__control:checked~label.sk-toggleable__label {background-color: #d4ebff;}#sk-container-id-6 input.sk-hidden--visually {border: 0;clip: rect(1px 1px 1px 1px);clip: rect(1px, 1px, 1px, 1px);height: 1px;margin: -1px;overflow: hidden;padding: 0;position: absolute;width: 1px;}#sk-container-id-6 div.sk-estimator {font-family: monospace;background-color: #f0f8ff;border: 1px dotted black;border-radius: 0.25em;box-sizing: border-box;margin-bottom: 0.5em;}#sk-container-id-6 div.sk-estimator:hover {background-color: #d4ebff;}#sk-container-id-6 div.sk-parallel-item::after {content: \"\";width: 100%;border-bottom: 1px solid gray;flex-grow: 1;}#sk-container-id-6 div.sk-label:hover label.sk-toggleable__label {background-color: #d4ebff;}#sk-container-id-6 div.sk-serial::before {content: \"\";position: absolute;border-left: 1px solid gray;box-sizing: border-box;top: 0;bottom: 0;left: 50%;z-index: 0;}#sk-container-id-6 div.sk-serial {display: flex;flex-direction: column;align-items: center;background-color: white;padding-right: 0.2em;padding-left: 0.2em;position: relative;}#sk-container-id-6 div.sk-item {position: relative;z-index: 1;}#sk-container-id-6 div.sk-parallel {display: flex;align-items: stretch;justify-content: center;background-color: white;position: relative;}#sk-container-id-6 div.sk-item::before, #sk-container-id-6 div.sk-parallel-item::before {content: \"\";position: absolute;border-left: 1px solid gray;box-sizing: border-box;top: 0;bottom: 0;left: 50%;z-index: -1;}#sk-container-id-6 div.sk-parallel-item {display: flex;flex-direction: column;z-index: 1;position: relative;background-color: white;}#sk-container-id-6 div.sk-parallel-item:first-child::after {align-self: flex-end;width: 50%;}#sk-container-id-6 div.sk-parallel-item:last-child::after {align-self: flex-start;width: 50%;}#sk-container-id-6 div.sk-parallel-item:only-child::after {width: 0;}#sk-container-id-6 div.sk-dashed-wrapped {border: 1px dashed gray;margin: 0 0.4em 0.5em 0.4em;box-sizing: border-box;padding-bottom: 0.4em;background-color: white;}#sk-container-id-6 div.sk-label label {font-family: monospace;font-weight: bold;display: inline-block;line-height: 1.2em;}#sk-container-id-6 div.sk-label-container {text-align: center;}#sk-container-id-6 div.sk-container {/* jupyter's `normalize.less` sets `[hidden] { display: none; }` but bootstrap.min.css set `[hidden] { display: none !important; }` so we also need the `!important` here to be able to override the default hidden behavior on the sphinx rendered scikit-learn.org. See: https://github.com/scikit-learn/scikit-learn/issues/21755 */display: inline-block !important;position: relative;}#sk-container-id-6 div.sk-text-repr-fallback {display: none;}</style><div id=\"sk-container-id-6\" class=\"sk-top-container\"><div class=\"sk-text-repr-fallback\"><pre>ElasticNet(alpha=1)</pre><b>In a Jupyter environment, please rerun this cell to show the HTML representation or trust the notebook. <br />On GitHub, the HTML representation is unable to render, please try loading this page with nbviewer.org.</b></div><div class=\"sk-container\" hidden><div class=\"sk-item\"><div class=\"sk-estimator sk-toggleable\"><input class=\"sk-toggleable__control sk-hidden--visually\" id=\"sk-estimator-id-6\" type=\"checkbox\" checked><label for=\"sk-estimator-id-6\" class=\"sk-toggleable__label sk-toggleable__label-arrow\">ElasticNet</label><div class=\"sk-toggleable__content\"><pre>ElasticNet(alpha=1)</pre></div></div></div></div></div>"
      ],
      "text/plain": [
       "ElasticNet(alpha=1)"
      ]
     },
     "execution_count": 37,
     "metadata": {},
     "output_type": "execute_result"
    }
   ],
   "source": [
    "elastic_net.fit(x_train, y_train)"
   ]
  },
  {
   "cell_type": "code",
   "execution_count": 38,
   "id": "8e8f9042-277b-444b-b55b-ba28cc242bb1",
   "metadata": {},
   "outputs": [
    {
     "data": {
      "text/plain": [
       "0.7801155505592015"
      ]
     },
     "execution_count": 38,
     "metadata": {},
     "output_type": "execute_result"
    }
   ],
   "source": [
    "elastic_net.score(x_test, y_test)"
   ]
  }
 ],
 "metadata": {
  "kernelspec": {
   "display_name": "Python 3 (ipykernel)",
   "language": "python",
   "name": "python3"
  },
  "language_info": {
   "codemirror_mode": {
    "name": "ipython",
    "version": 3
   },
   "file_extension": ".py",
   "mimetype": "text/x-python",
   "name": "python",
   "nbconvert_exporter": "python",
   "pygments_lexer": "ipython3",
   "version": "3.11.5"
  }
 },
 "nbformat": 4,
 "nbformat_minor": 5
}
